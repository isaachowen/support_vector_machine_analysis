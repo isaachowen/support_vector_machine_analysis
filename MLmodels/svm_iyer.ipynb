{
 "metadata": {
  "language_info": {
   "codemirror_mode": {
    "name": "ipython",
    "version": 3
   },
   "file_extension": ".py",
   "mimetype": "text/x-python",
   "name": "python",
   "nbconvert_exporter": "python",
   "pygments_lexer": "ipython3",
   "version": "3.8.5"
  },
  "orig_nbformat": 2,
  "kernelspec": {
   "name": "python385jvsc74a57bd0c5d8f6e74573bcf85721e6caa81fb1e3080928840b56766cb515e33ff1d22f50",
   "display_name": "Python 3.8.5 64-bit ('base': conda)"
  }
 },
 "nbformat": 4,
 "nbformat_minor": 2,
 "cells": [
  {
   "source": [
    "# Setup and loading data"
   ],
   "cell_type": "markdown",
   "metadata": {}
  },
  {
   "cell_type": "code",
   "execution_count": null,
   "metadata": {},
   "outputs": [],
   "source": [
    "import numpy as np\n",
    "import matplotlib.pyplot as plt \n",
    "from sklearn import svm, datasets\n",
    "import sklearn.model_selection as model_selection\n",
    "from sklearn.metrics import accuracy_score\n",
    "from sklearn.metrics import f1_score\n",
    "import time\n",
    "\n",
    "from matplotlib.colors import Normalize\n",
    "import sklearn\n",
    "from sklearn.preprocessing import StandardScaler\n",
    "from sklearn.model_selection import StratifiedShuffleSplit\n",
    "from sklearn.model_selection import GridSearchCV\n"
   ]
  },
  {
   "cell_type": "code",
   "execution_count": null,
   "metadata": {},
   "outputs": [],
   "source": [
    "# Iyer data import\n",
    "iyer_datapath = '/mnt/c/Users/isaac/Desktop/CSE447/final_project/DataMiningProject/data/6_cho_iyer/'\n",
    "iyer_filename = 'iyer.txt'\n",
    "\n",
    "iyer_data = np.genfromtxt(iyer_datapath+iyer_filename)\n",
    "# Eliminate outliers from this\n",
    "iyer_data = iyer_data[iyer_data[:,1]>-1, :]\n",
    "X = iyer_data [:,2:]\n",
    "y = iyer_data[:,1]\n",
    "\n",
    "\n",
    "\n",
    "#rng = np.random.RandomState(0)\n",
    "# X_train, X_test, y_train, y_test = train_test_split(X1, y1, random_state=rng)\n",
    "\n",
    "Xtrain, Xtest, ytrain, ytest = model_selection.train_test_split(X, y, train_size=0.80, test_size=0.20, random_state=101)\n"
   ]
  },
  {
   "source": [
    "## Fit a scaler, and scale the training data"
   ],
   "cell_type": "markdown",
   "metadata": {}
  },
  {
   "cell_type": "code",
   "execution_count": null,
   "metadata": {},
   "outputs": [],
   "source": [
    "# Scale the data for SVM training, doing the scaling based on the Xtrain data. \n",
    "# We will be doing the same scaling on the testing data. \n",
    "\n",
    "scaler = StandardScaler()\n",
    "scaler = scaler.fit(Xtrain)\n",
    "Xtrain = scaler.transform(Xtrain)"
   ]
  },
  {
   "source": [
    "## Rbf kernel grid evaluation"
   ],
   "cell_type": "markdown",
   "metadata": {}
  },
  {
   "cell_type": "code",
   "execution_count": null,
   "metadata": {},
   "outputs": [],
   "source": [
    "# For {RBF} kernel, the relevant parameters are {C, gamma}\n",
    "\n",
    "# Set parameter range for grid search space\n",
    "C_range = np.logspace(-2, 10, 13)\n",
    "gamma_range = np.logspace(-9, 3, 13)\n",
    "\n",
    "# Use parameter ranges to create a parameter grid\n",
    "param_grid = dict(gamma=gamma_range, C=C_range)\n",
    "\n",
    "# Create a cross validation generator\n",
    "cv = sklearn.model_selection.KFold(n_splits=10, shuffle=True)\n",
    "\n",
    "\n",
    "# Run GridSearchCV \n",
    "grid = GridSearchCV(svm.SVC(decision_function_shape='ovr'), param_grid=param_grid, cv=cv,scoring='accuracy')\n",
    "results = grid.fit(Xtrain, ytrain)\n",
    "\n",
    "\n",
    "\n",
    "# Identify best parameter set based on grid scoring method\n",
    "# Grid scores come from...\n",
    "print(\"The best parameters are %s with a score of %0.2f\"\n",
    "      % (results.best_params_, results.best_score_))\n"
   ]
  },
  {
   "cell_type": "code",
   "execution_count": null,
   "metadata": {},
   "outputs": [],
   "source": [
    "# Draw heatmap of the validation accuracy as a function of the kernel parameters\n",
    "\n",
    "# Utility function to move the midpoint of a colormap to be around\n",
    "# the values of interest.\n",
    "\n",
    "class MidpointNormalize(Normalize):\n",
    "\n",
    "    def __init__(self, vmin=None, vmax=None, midpoint=None, clip=False):\n",
    "        self.midpoint = midpoint\n",
    "        Normalize.__init__(self, vmin, vmax, clip)\n",
    "\n",
    "    def __call__(self, value, clip=None):\n",
    "        x, y = [self.vmin, self.midpoint, self.vmax], [0, 0.5, 1]\n",
    "        return np.ma.masked_array(np.interp(value, x, y))\n",
    "\n",
    "\n",
    "scores = grid.cv_results_['mean_test_score'].reshape(len(C_range),\n",
    "                                                     len(gamma_range))\n",
    "\n",
    "plt.figure(figsize=(8, 6))\n",
    "plt.subplots_adjust(left=.2, right=0.95, bottom=0.15, top=0.95)\n",
    "plt.imshow(scores, interpolation='nearest', cmap=plt.cm.hot,\n",
    "           norm=MidpointNormalize(vmin=0.2, midpoint=0.92))\n",
    "\n",
    "# Parameter names\n",
    "plt.xlabel('gamma')\n",
    "plt.ylabel('C')\n",
    "plt.colorbar()\n",
    "plt.set_cmap('gray')\n",
    "plt.xticks(np.arange(len(gamma_range)), gamma_range, rotation=45)\n",
    "plt.yticks(np.arange(len(C_range)), C_range)\n",
    "plt.title('Iyer RBF Training Validation Accuracy')\n",
    "plt.savefig(\"iyer_rbf_gridsearch.png\")\n",
    "plt.show()"
   ]
  },
  {
   "source": [
    "## Evaluation of the method"
   ],
   "cell_type": "markdown",
   "metadata": {}
  },
  {
   "cell_type": "code",
   "execution_count": null,
   "metadata": {},
   "outputs": [],
   "source": [
    "# Train the SVC model on the kernel and optimal parameters\n",
    "rbf = svm.SVC(kernel='rbf', gamma=1e-06, C=10000000).fit(Xtrain, ytrain) \n",
    " # 1000000.0, 'gamma': 1e-07\n",
    "# Rescale the testing data\n",
    "Xtest = scaler.transform(Xtest)\n",
    "\n",
    "# Use the predictor on the rescaled testing data\n",
    "rbf_pred = rbf.predict(Xtest)\n",
    "\n",
    "# Compute the accuracy, f1 score and auc accuracy for the \n",
    "rbf_accuracy = accuracy_score(ytest, rbf_pred)\n",
    "rbf_f1 = f1_score(ytest, rbf_pred, average='weighted')\n",
    "\n",
    "def multiclass_roc_auc_score(y_test, y_pred, average=\"macro\"): # Method from https://medium.com/@plog397/auc-roc-curve-scoring-function-for-multi-class-classification-9822871a6659\n",
    "    lb = sklearn.preprocessing.LabelBinarizer()\n",
    "    lb.fit(y_test)\n",
    "    y_test = lb.transform(y_test)\n",
    "    y_pred = lb.transform(y_pred)\n",
    "    return sklearn.metrics.roc_auc_score(y_test, y_pred, average=average)\n",
    "auc_accuracy = multiclass_roc_auc_score(ytest,rbf_pred)\n",
    "\n",
    "# Print the results for the method\n",
    "print('Accuracy (RBF Kernel): ', \"%.2f\" % (rbf_accuracy*100))\n",
    "print('F1 (RBF Kernel): ', \"%.2f\" % (rbf_f1*100))\n",
    "print('AUC Accuracy (RBF Kernel): ','%.2f' % (auc_accuracy))\n",
    "\n",
    "\n"
   ]
  },
  {
   "cell_type": "code",
   "execution_count": null,
   "metadata": {},
   "outputs": [],
   "source": [
    "Xtrain.shape\n",
    "Xtest.shape"
   ]
  }
 ]
}