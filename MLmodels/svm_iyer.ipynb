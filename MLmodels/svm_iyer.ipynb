{
 "metadata": {
  "language_info": {
   "codemirror_mode": {
    "name": "ipython",
    "version": 3
   },
   "file_extension": ".py",
   "mimetype": "text/x-python",
   "name": "python",
   "nbconvert_exporter": "python",
   "pygments_lexer": "ipython3",
   "version": 3
  },
  "orig_nbformat": 2
 },
 "nbformat": 4,
 "nbformat_minor": 2,
 "cells": [
  {
   "cell_type": "code",
   "execution_count": null,
   "metadata": {},
   "outputs": [],
   "source": [
    "import numpy as np\n",
    "import matplotlib.pyplot as plt \n",
    "from sklearn import svm, datasets\n",
    "import sklearn.model_selection as model_selection\n",
    "from sklearn.metrics import accuracy_score\n",
    "from sklearn.metrics import f1_score\n",
    "import time"
   ]
  },
  {
   "cell_type": "code",
   "execution_count": null,
   "metadata": {},
   "outputs": [],
   "source": [
    "# Iyer data import\n",
    "iyer_datapath = '/mnt/c/Users/isaac/Desktop/CSE447/final_project/DataMiningProject/data/6_cho_iyer/'\n",
    "iyer_filename = 'iyer.txt'\n",
    "\n",
    "iyer_data = np.genfromtxt(iyer_datapath+iyer_filename)\n",
    "iyer_X = iyer_data [:,2:]\n",
    "iyer_y = iyer_data[:,1]\n",
    "iyer_Xtrain, iyer_Xtest, iyer_ytrain, iyer_ytest = model_selection.train_test_split(iyer_X, iyer_y, train_size=0.80, test_size=0.20, random_state=101)\n"
   ]
  }
 ]
}