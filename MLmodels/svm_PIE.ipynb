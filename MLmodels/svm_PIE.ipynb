{
 "metadata": {
  "language_info": {
   "codemirror_mode": {
    "name": "ipython",
    "version": 3
   },
   "file_extension": ".py",
   "mimetype": "text/x-python",
   "name": "python",
   "nbconvert_exporter": "python",
   "pygments_lexer": "ipython3",
   "version": "3.8.5"
  },
  "orig_nbformat": 2,
  "kernelspec": {
   "name": "python385jvsc74a57bd0c5d8f6e74573bcf85721e6caa81fb1e3080928840b56766cb515e33ff1d22f50",
   "display_name": "Python 3.8.5 64-bit ('base': conda)"
  }
 },
 "nbformat": 4,
 "nbformat_minor": 2,
 "cells": [
  {
   "source": [
    "# Setup and loading data"
   ],
   "cell_type": "markdown",
   "metadata": {}
  },
  {
   "cell_type": "code",
   "execution_count": 1,
   "metadata": {},
   "outputs": [],
   "source": [
    "import numpy as np\n",
    "import matplotlib.pyplot as plt \n",
    "from sklearn import svm, datasets\n",
    "import sklearn.model_selection as model_selection\n",
    "from sklearn.metrics import accuracy_score\n",
    "from sklearn.metrics import f1_score\n",
    "import time\n",
    "\n",
    "from matplotlib.colors import Normalize\n",
    "import sklearn\n",
    "from sklearn.preprocessing import StandardScaler\n",
    "from sklearn.model_selection import StratifiedShuffleSplit\n",
    "from sklearn.model_selection import GridSearchCV"
   ]
  },
  {
   "cell_type": "code",
   "execution_count": 2,
   "metadata": {},
   "outputs": [
    {
     "output_type": "error",
     "ename": "KeyboardInterrupt",
     "evalue": "",
     "traceback": [
      "\u001b[0;31m---------------------------------------------------------------------------\u001b[0m",
      "\u001b[0;31mKeyboardInterrupt\u001b[0m                         Traceback (most recent call last)",
      "\u001b[0;32m<ipython-input-2-537826aec6f0>\u001b[0m in \u001b[0;36m<module>\u001b[0;34m\u001b[0m\n\u001b[1;32m      6\u001b[0m \u001b[0;31m# take the first training and testing files\u001b[0m\u001b[0;34m\u001b[0m\u001b[0;34m\u001b[0m\u001b[0;34m\u001b[0m\u001b[0m\n\u001b[1;32m      7\u001b[0m \u001b[0mPIE_train_filename\u001b[0m \u001b[0;34m=\u001b[0m \u001b[0mPIE_train_filenames\u001b[0m\u001b[0;34m[\u001b[0m\u001b[0;36m0\u001b[0m\u001b[0;34m]\u001b[0m\u001b[0;34m\u001b[0m\u001b[0;34m\u001b[0m\u001b[0m\n\u001b[0;32m----> 8\u001b[0;31m \u001b[0mPIE_train_data\u001b[0m \u001b[0;34m=\u001b[0m \u001b[0mnp\u001b[0m\u001b[0;34m.\u001b[0m\u001b[0mgenfromtxt\u001b[0m\u001b[0;34m(\u001b[0m\u001b[0mPIE_datapath\u001b[0m\u001b[0;34m+\u001b[0m\u001b[0mPIE_train_filename\u001b[0m\u001b[0;34m,\u001b[0m\u001b[0mdelimiter\u001b[0m\u001b[0;34m=\u001b[0m\u001b[0;34m' '\u001b[0m\u001b[0;34m)\u001b[0m\u001b[0;34m\u001b[0m\u001b[0;34m\u001b[0m\u001b[0m\n\u001b[0m\u001b[1;32m      9\u001b[0m \u001b[0mXtrain\u001b[0m \u001b[0;34m=\u001b[0m \u001b[0mPIE_train_data\u001b[0m\u001b[0;34m[\u001b[0m\u001b[0;34m:\u001b[0m\u001b[0;34m,\u001b[0m\u001b[0;36m0\u001b[0m\u001b[0;34m:\u001b[0m\u001b[0;36m1024\u001b[0m\u001b[0;34m]\u001b[0m\u001b[0;34m\u001b[0m\u001b[0;34m\u001b[0m\u001b[0m\n\u001b[1;32m     10\u001b[0m \u001b[0mytrain\u001b[0m \u001b[0;34m=\u001b[0m \u001b[0mPIE_train_data\u001b[0m\u001b[0;34m[\u001b[0m\u001b[0;34m:\u001b[0m\u001b[0;34m,\u001b[0m\u001b[0;36m1024\u001b[0m\u001b[0;34m]\u001b[0m\u001b[0;34m\u001b[0m\u001b[0;34m\u001b[0m\u001b[0m\n",
      "\u001b[0;32m~/anaconda3/lib/python3.8/site-packages/numpy/lib/npyio.py\u001b[0m in \u001b[0;36mgenfromtxt\u001b[0;34m(fname, dtype, comments, delimiter, skip_header, skip_footer, converters, missing_values, filling_values, usecols, names, excludelist, deletechars, replace_space, autostrip, case_sensitive, defaultfmt, unpack, usemask, loose, invalid_raise, max_rows, encoding)\u001b[0m\n\u001b[1;32m   2013\u001b[0m \u001b[0;34m\u001b[0m\u001b[0m\n\u001b[1;32m   2014\u001b[0m         \u001b[0;31m# Parse each line\u001b[0m\u001b[0;34m\u001b[0m\u001b[0;34m\u001b[0m\u001b[0;34m\u001b[0m\u001b[0m\n\u001b[0;32m-> 2015\u001b[0;31m         \u001b[0;32mfor\u001b[0m \u001b[0;34m(\u001b[0m\u001b[0mi\u001b[0m\u001b[0;34m,\u001b[0m \u001b[0mline\u001b[0m\u001b[0;34m)\u001b[0m \u001b[0;32min\u001b[0m \u001b[0menumerate\u001b[0m\u001b[0;34m(\u001b[0m\u001b[0mitertools\u001b[0m\u001b[0;34m.\u001b[0m\u001b[0mchain\u001b[0m\u001b[0;34m(\u001b[0m\u001b[0;34m[\u001b[0m\u001b[0mfirst_line\u001b[0m\u001b[0;34m,\u001b[0m \u001b[0;34m]\u001b[0m\u001b[0;34m,\u001b[0m \u001b[0mfhd\u001b[0m\u001b[0;34m)\u001b[0m\u001b[0;34m)\u001b[0m\u001b[0;34m:\u001b[0m\u001b[0;34m\u001b[0m\u001b[0;34m\u001b[0m\u001b[0m\n\u001b[0m\u001b[1;32m   2016\u001b[0m             \u001b[0mvalues\u001b[0m \u001b[0;34m=\u001b[0m \u001b[0msplit_line\u001b[0m\u001b[0;34m(\u001b[0m\u001b[0mline\u001b[0m\u001b[0;34m)\u001b[0m\u001b[0;34m\u001b[0m\u001b[0;34m\u001b[0m\u001b[0m\n\u001b[1;32m   2017\u001b[0m             \u001b[0mnbvalues\u001b[0m \u001b[0;34m=\u001b[0m \u001b[0mlen\u001b[0m\u001b[0;34m(\u001b[0m\u001b[0mvalues\u001b[0m\u001b[0;34m)\u001b[0m\u001b[0;34m\u001b[0m\u001b[0;34m\u001b[0m\u001b[0m\n",
      "\u001b[0;32m~/anaconda3/lib/python3.8/codecs.py\u001b[0m in \u001b[0;36mdecode\u001b[0;34m(self, input, final)\u001b[0m\n\u001b[1;32m    317\u001b[0m         \u001b[0;32mraise\u001b[0m \u001b[0mNotImplementedError\u001b[0m\u001b[0;34m\u001b[0m\u001b[0;34m\u001b[0m\u001b[0m\n\u001b[1;32m    318\u001b[0m \u001b[0;34m\u001b[0m\u001b[0m\n\u001b[0;32m--> 319\u001b[0;31m     \u001b[0;32mdef\u001b[0m \u001b[0mdecode\u001b[0m\u001b[0;34m(\u001b[0m\u001b[0mself\u001b[0m\u001b[0;34m,\u001b[0m \u001b[0minput\u001b[0m\u001b[0;34m,\u001b[0m \u001b[0mfinal\u001b[0m\u001b[0;34m=\u001b[0m\u001b[0;32mFalse\u001b[0m\u001b[0;34m)\u001b[0m\u001b[0;34m:\u001b[0m\u001b[0;34m\u001b[0m\u001b[0;34m\u001b[0m\u001b[0m\n\u001b[0m\u001b[1;32m    320\u001b[0m         \u001b[0;31m# decode input (taking the buffer into account)\u001b[0m\u001b[0;34m\u001b[0m\u001b[0;34m\u001b[0m\u001b[0;34m\u001b[0m\u001b[0m\n\u001b[1;32m    321\u001b[0m         \u001b[0mdata\u001b[0m \u001b[0;34m=\u001b[0m \u001b[0mself\u001b[0m\u001b[0;34m.\u001b[0m\u001b[0mbuffer\u001b[0m \u001b[0;34m+\u001b[0m \u001b[0minput\u001b[0m\u001b[0;34m\u001b[0m\u001b[0;34m\u001b[0m\u001b[0m\n",
      "\u001b[0;31mKeyboardInterrupt\u001b[0m: "
     ]
    }
   ],
   "source": [
    "# PIE data import\n",
    "PIE_datapath = '/mnt/c/Users/isaac/Desktop/CSE447/final_project/DataMiningProject/data/1_PIE_32x32/'\n",
    "PIE_test_filenames = ['StTestFile'+str(i)+'.txt' for i in range(1,11)]\n",
    "PIE_train_filenames = ['StTrainFile'+str(i)+'.txt' for i in range(1,11)]\n",
    "\n",
    "# take the first training and testing files\n",
    "PIE_train_filename = PIE_train_filenames[0]\n",
    "PIE_train_data = np.genfromtxt(PIE_datapath+PIE_train_filename,delimiter=' ')\n",
    "Xtrain = PIE_train_data[:,0:1024]\n",
    "ytrain = PIE_train_data[:,1024]\n",
    "\n",
    "PIE_test_filename = PIE_test_filenames[0]\n",
    "PIE_test_data = np.genfromtxt(PIE_datapath+PIE_test_filename,delimiter=' ')\n",
    "Xtest = PIE_test_data[:,0:1024]\n",
    "ytest = PIE_test_data[:,1024]\n",
    "'''\n",
    "Leftover work for actually creating an image from the vector. Not needed.\n",
    "listofvectors = []\n",
    "listofimages = []\n",
    "arrayoflabels = np.zeros((train_datain.shape[0]))\n",
    "for row in range(train_datain.shape[0]):\n",
    "    # print(row)\n",
    "    currimage = train_datain[row,0:1024]\n",
    "    currlabel = train_datain[row,1024]\n",
    "    # currreshaped = np.reshape(currimage,(32,32))\n",
    "    # listofimages.append(currreshaped)\n",
    "    listofvectors.append(currimage)\n",
    "    arrayoflabels[row] = currlabel\n",
    "'''"
   ]
  },
  {
   "source": [
    "## We don't scale the data because it's already scaled between 0 and 1"
   ],
   "cell_type": "markdown",
   "metadata": {}
  },
  {
   "source": [
    "## Rbf kernel grid evaluation"
   ],
   "cell_type": "markdown",
   "metadata": {}
  },
  {
   "cell_type": "code",
   "execution_count": null,
   "metadata": {},
   "outputs": [],
   "source": [
    "# For {RBF} kernel, the relevant parameters are {C, gamma}\n",
    "\n",
    "# Set parameter range for grid search space\n",
    "C_range = np.logspace(-2, 10, 13)\n",
    "gamma_range = np.logspace(-9, 3, 13)\n",
    "\n",
    "# Use parameter ranges to create a parameter grid\n",
    "param_grid = dict(gamma=gamma_range, C=C_range)\n",
    "\n",
    "# Create a cross validation generator\n",
    "cv = sklearn.model_selection.KFold(n_splits=10, shuffle=True)\n",
    "\n",
    "\n",
    "# Run GridSearchCV \n",
    "grid = GridSearchCV(svm.SVC(decision_function_shape='ovr'), param_grid=param_grid, cv=cv,scoring='accuracy',verbose=10,n_jobs=4)\n",
    "results = grid.fit(Xtrain, ytrain)\n",
    "\n",
    "\n",
    "\n",
    "# Identify best parameter set based on grid scoring method\n",
    "# Grid scores come from...\n",
    "print(\"The best parameters are %s with a score of %0.2f\"\n",
    "      % (results.best_params_, results.best_score_))\n"
   ]
  },
  {
   "cell_type": "code",
   "execution_count": null,
   "metadata": {},
   "outputs": [],
   "source": [
    "# Draw heatmap of the validation accuracy as a function of the kernel parameters\n",
    "\n",
    "# Utility function to move the midpoint of a colormap to be around\n",
    "# the values of interest.\n",
    "\n",
    "class MidpointNormalize(Normalize):\n",
    "\n",
    "    def __init__(self, vmin=None, vmax=None, midpoint=None, clip=False):\n",
    "        self.midpoint = midpoint\n",
    "        Normalize.__init__(self, vmin, vmax, clip)\n",
    "\n",
    "    def __call__(self, value, clip=None):\n",
    "        x, y = [self.vmin, self.midpoint, self.vmax], [0, 0.5, 1]\n",
    "        return np.ma.masked_array(np.interp(value, x, y))\n",
    "\n",
    "\n",
    "scores = grid.cv_results_['mean_test_score'].reshape(len(C_range),\n",
    "                                                     len(gamma_range))\n",
    "\n",
    "plt.figure(figsize=(8, 6))\n",
    "plt.subplots_adjust(left=.2, right=0.95, bottom=0.15, top=0.95)\n",
    "plt.imshow(scores, interpolation='nearest', cmap=plt.cm.hot,\n",
    "           norm=MidpointNormalize(vmin=0.2, midpoint=0.92))\n",
    "\n",
    "# Parameter names\n",
    "plt.xlabel('gamma')\n",
    "plt.ylabel('C')\n",
    "plt.colorbar()\n",
    "plt.set_cmap('gray')\n",
    "plt.xticks(np.arange(len(gamma_range)), gamma_range, rotation=45)\n",
    "plt.yticks(np.arange(len(C_range)), C_range)\n",
    "plt.title('PIE RBF Training Validation Accuracy')\n",
    "plt.savefig(\"pie_rbf_gridsearch.png\")\n",
    "plt.show()"
   ]
  },
  {
   "source": [
    "## Evaluation of the method"
   ],
   "cell_type": "markdown",
   "metadata": {}
  },
  {
   "cell_type": "code",
   "execution_count": null,
   "metadata": {},
   "outputs": [],
   "source": [
    "# Train the SVC model on the kernel and optimal parameters\n",
    "rbf = svm.SVC(kernel='rbf', gamma=1e-06, C=100000000).fit(Xtrain, ytrain) \n",
    " # 1000000.0, 'gamma': 1e-07\n",
    "# Rescale the testing data\n",
    "#Xtest = scaler.transform(Xtest)\n",
    "\n",
    "# Use the predictor on the rescaled testing data\n",
    "rbf_pred = rbf.predict(Xtest)\n",
    "\n",
    "# Compute the accuracy, f1 score and auc accuracy for the \n",
    "rbf_accuracy = accuracy_score(ytest, rbf_pred)\n",
    "rbf_f1 = f1_score(ytest, rbf_pred, average='weighted')\n",
    "\n",
    "def multiclass_roc_auc_score(y_test, y_pred, average=\"macro\"): # Method from https://medium.com/@plog397/auc-roc-curve-scoring-function-for-multi-class-classification-9822871a6659\n",
    "    lb = sklearn.preprocessing.LabelBinarizer()\n",
    "    lb.fit(y_test)\n",
    "    y_test = lb.transform(y_test)\n",
    "    y_pred = lb.transform(y_pred)\n",
    "    return sklearn.metrics.roc_auc_score(y_test, y_pred, average=average)\n",
    "auc_accuracy = multiclass_roc_auc_score(ytest,rbf_pred)\n",
    "\n",
    "# Print the results for the method\n",
    "print('Accuracy (RBF Kernel): ', \"%.2f\" % (rbf_accuracy*100))\n",
    "print('F1 (RBF Kernel): ', \"%.2f\" % (rbf_f1*100))\n",
    "print('AUC Accuracy (RBF Kernel): ','%.2f' % (auc_accuracy))\n"
   ]
  },
  {
   "cell_type": "code",
   "execution_count": null,
   "metadata": {},
   "outputs": [],
   "source": []
  },
  {
   "source": [
    "## Scratch work below"
   ],
   "cell_type": "markdown",
   "metadata": {}
  },
  {
   "cell_type": "code",
   "execution_count": null,
   "metadata": {},
   "outputs": [],
   "source": []
  },
  {
   "source": [
    "cp1 = time.time()\n",
    "PIE_rbf = svm.SVC(kernel='rbf', gamma=0.5, C=0.1).fit(PIE_Xtrain, PIE_ytrain)\n",
    "cp2 = time.time()\n",
    "print(\"1 trained, time: \",cp2-cp1,\" seconds\")\n",
    "PIE_poly = svm.SVC(kernel='poly', degree=3, C=1).fit(PIE_Xtrain, PIE_ytrain)\n",
    "cp3 = time.time()\n",
    "print(\"1 trained, time: \",cp3-cp2,\" seconds\")"
   ],
   "cell_type": "markdown",
   "metadata": {}
  },
  {
   "source": [
    "cp1 = time.time()\n",
    "PIE_default = svm.SVC().fit(PIE_Xtrain, PIE_ytrain)\n",
    "cp2 = time.time()\n",
    "print(\"1 trained, time: \",cp2-cp1,\" seconds\")"
   ],
   "cell_type": "markdown",
   "metadata": {}
  },
  {
   "source": [
    "PIE_poly_pred = PIE_poly.predict(PIE_Xtest)\n",
    "PIE_rbf_pred = PIE_rbf.predict(PIE_Xtest)"
   ],
   "cell_type": "markdown",
   "metadata": {}
  },
  {
   "cell_type": "code",
   "execution_count": null,
   "metadata": {},
   "outputs": [],
   "source": []
  },
  {
   "cell_type": "code",
   "execution_count": null,
   "metadata": {},
   "outputs": [],
   "source": [
    "\n",
    "#Leftover work for actually creating an image from the vector. Not needed.\n",
    "listofvectors = []\n",
    "listofimages = []\n",
    "arrayoflabels = np.zeros((PIE_train_data.shape[0]))\n",
    "for row in range(PIE_train_data.shape[0]):\n",
    "    # print(row)\n",
    "    currimage = PIE_train_data[row,0:1024]\n",
    "    currlabel = PIE_train_data[row,1024]\n",
    "    currreshaped = np.reshape(currimage,(32,32))\n",
    "    listofimages.append(currreshaped)\n",
    "    listofvectors.append(currimage)\n",
    "    arrayoflabels[row] = currlabel\n",
    "\n",
    "\n"
   ]
  },
  {
   "cell_type": "code",
   "execution_count": null,
   "metadata": {},
   "outputs": [],
   "source": [
    "plt.imshow(listofimages[0],cmap='gist_gray')\n"
   ]
  },
  {
   "cell_type": "code",
   "execution_count": null,
   "metadata": {},
   "outputs": [],
   "source": [
    "print(Xtrain.shape)\n",
    "print(Xtest.shape)"
   ]
  }
 ]
}