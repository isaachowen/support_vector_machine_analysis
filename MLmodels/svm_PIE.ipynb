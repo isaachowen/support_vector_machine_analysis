{
 "metadata": {
  "language_info": {
   "codemirror_mode": {
    "name": "ipython",
    "version": 3
   },
   "file_extension": ".py",
   "mimetype": "text/x-python",
   "name": "python",
   "nbconvert_exporter": "python",
   "pygments_lexer": "ipython3",
   "version": "3.8.5"
  },
  "orig_nbformat": 2,
  "kernelspec": {
   "name": "python385jvsc74a57bd0c5d8f6e74573bcf85721e6caa81fb1e3080928840b56766cb515e33ff1d22f50",
   "display_name": "Python 3.8.5 64-bit ('base': conda)"
  }
 },
 "nbformat": 4,
 "nbformat_minor": 2,
 "cells": [
  {
   "cell_type": "code",
   "execution_count": 1,
   "metadata": {},
   "outputs": [],
   "source": [
    "import numpy as np\n",
    "import matplotlib.pyplot as plt \n",
    "from sklearn import svm, datasets\n",
    "import sklearn.model_selection as model_selection\n",
    "from sklearn.metrics import accuracy_score\n",
    "from sklearn.metrics import f1_score\n",
    "import time"
   ]
  },
  {
   "cell_type": "code",
   "execution_count": null,
   "metadata": {},
   "outputs": [],
   "source": [
    "# PIE data import\n",
    "PIE_datapath = '/mnt/c/Users/isaac/Desktop/CSE447/final_project/DataMiningProject/data/1_PIE_32x32/'\n",
    "PIE_test_filenames = ['StTestFile'+str(i)+'.txt' for i in range(1,11)]\n",
    "PIE_train_filenames = ['StTrainFile'+str(i)+'.txt' for i in range(1,11)]\n",
    "print(PIE_test_filenames)\n",
    "print(PIE_train_filenames)\n",
    "\n",
    "# take the first training and testing files\n",
    "PIE_train_filename = PIE_train_filenames[0]\n",
    "PIE_train_data = np.genfromtxt(PIE_datapath+PIE_train_filename,delimiter=' ')\n",
    "PIE_Xtrain = PIE_train_data[:,0:1024]\n",
    "PIE_ytrain = PIE_train_data[:,1024]\n",
    "\n",
    "PIE_test_filename = PIE_test_filenames[0]\n",
    "PIE_test_data = np.genfromtxt(PIE_datapath+PIE_test_filename,delimiter=' ')\n",
    "PIE_Xtest = PIE_test_data[:,0:1024]\n",
    "PIE_ytest = PIE_test_data[:,1024]\n",
    "\n",
    "# Leftover work for actually creating an image from the vector. Not needed.\n",
    "# listofvectors = []\n",
    "# listofimages = []\n",
    "# arrayoflabels = np.zeros((train_datain.shape[0]))\n",
    "# for row in range(train_datain.shape[0]):\n",
    "#     # print(row)\n",
    "#     currimage = train_datain[row,0:1024]\n",
    "#     currlabel = train_datain[row,1024]\n",
    "#     # currreshaped = np.reshape(currimage,(32,32))\n",
    "#     # listofimages.append(currreshaped)\n",
    "#     listofvectors.append(currimage)\n",
    "#     arrayoflabels[row] = currlabel"
   ]
  },
  {
   "cell_type": "code",
   "execution_count": null,
   "metadata": {},
   "outputs": [],
   "source": [
    "cp1 = time.time()\n",
    "PIE_rbf = svm.SVC(kernel='rbf', gamma=0.5, C=0.1).fit(PIE_Xtrain, PIE_ytrain)\n",
    "cp2 = time.time()\n",
    "print(\"1 trained, time: \",cp2-cp1,\" seconds\")\n",
    "PIE_poly = svm.SVC(kernel='poly', degree=3, C=1).fit(PIE_Xtrain, PIE_ytrain)\n",
    "cp3 = time.time()\n",
    "print(\"1 trained, time: \",cp3-cp2,\" seconds\")"
   ]
  },
  {
   "cell_type": "code",
   "execution_count": null,
   "metadata": {},
   "outputs": [],
   "source": [
    "cp1 = time.time()\n",
    "PIE_default = svm.SVC().fit(PIE_Xtrain, PIE_ytrain)\n",
    "cp2 = time.time()\n",
    "print(\"1 trained, time: \",cp2-cp1,\" seconds\")"
   ]
  },
  {
   "cell_type": "code",
   "execution_count": null,
   "metadata": {},
   "outputs": [],
   "source": [
    "PIE_poly_pred = PIE_poly.predict(PIE_Xtest)\n",
    "PIE_rbf_pred = PIE_rbf.predict(PIE_Xtest)"
   ]
  }
 ]
}